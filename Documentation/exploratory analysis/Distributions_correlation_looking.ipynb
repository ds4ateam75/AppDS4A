{
 "cells": [
  {
   "cell_type": "code",
   "execution_count": 2,
   "metadata": {},
   "outputs": [],
   "source": [
    "import pandas as pd\n",
    "import seaborn as sns\n",
    "import matplotlib.pyplot as plt\n",
    "%matplotlib inline"
   ]
  },
  {
   "cell_type": "code",
   "execution_count": 3,
   "metadata": {},
   "outputs": [],
   "source": [
    "data_nov1 = pd.read_csv('./Data/csv_buses_coordenadas/2019_11_Q1.csv')\n",
    "data_nov2 = pd.read_csv('./Data/csv_buses_coordenadas/2019_11_Q2.csv')\n",
    "data_mar1 = pd.read_csv('./Data/csv_buses_coordenadas/2020_03_Q1.csv')\n",
    "data_mar2 = pd.read_csv('./Data/csv_buses_coordenadas/2020_03_Q2.csv')\n",
    "data_abr1 = pd.read_csv('./Data/csv_buses_coordenadas/2020_04_Q1.csv')\n",
    "data_abr2 = pd.read_csv('./Data/csv_buses_coordenadas/2020_04_Q2.csv')\n",
    "data_may1 = pd.read_csv('./Data/csv_buses_coordenadas/2020_05_Q1.csv')"
   ]
  },
  {
   "cell_type": "code",
   "execution_count": 4,
   "metadata": {},
   "outputs": [],
   "source": [
    "df = pd.concat([data_nov1,data_nov2,data_mar1,data_mar2,data_abr1,data_abr2,data_may1])"
   ]
  },
  {
   "cell_type": "code",
   "execution_count": 5,
   "metadata": {},
   "outputs": [
    {
     "data": {
      "text/html": [
       "<div>\n",
       "<style scoped>\n",
       "    .dataframe tbody tr th:only-of-type {\n",
       "        vertical-align: middle;\n",
       "    }\n",
       "\n",
       "    .dataframe tbody tr th {\n",
       "        vertical-align: top;\n",
       "    }\n",
       "\n",
       "    .dataframe thead th {\n",
       "        text-align: right;\n",
       "    }\n",
       "</style>\n",
       "<table border=\"1\" class=\"dataframe\">\n",
       "  <thead>\n",
       "    <tr style=\"text-align: right;\">\n",
       "      <th></th>\n",
       "      <th>SECUENCIARECORRIDO</th>\n",
       "      <th>RECORRIDOFINALIZADO</th>\n",
       "      <th>IDVEHICULO</th>\n",
       "      <th>CODIGORUTA</th>\n",
       "      <th>FECHAREGISTRO</th>\n",
       "      <th>LATITUD</th>\n",
       "      <th>LONGITUD</th>\n",
       "      <th>SUBENDELANTERA</th>\n",
       "      <th>SUBENTRASERA</th>\n",
       "      <th>BAJANDELANTERA</th>\n",
       "      <th>BAJANTRASERA</th>\n",
       "      <th>nuevas coordenadas</th>\n",
       "    </tr>\n",
       "  </thead>\n",
       "  <tbody>\n",
       "    <tr>\n",
       "      <th>0</th>\n",
       "      <td>132275452</td>\n",
       "      <td>S</td>\n",
       "      <td>5843</td>\n",
       "      <td>4004</td>\n",
       "      <td>01/11/2019 00:00:54</td>\n",
       "      <td>6.166865</td>\n",
       "      <td>-75.642921</td>\n",
       "      <td>0</td>\n",
       "      <td>0</td>\n",
       "      <td>0</td>\n",
       "      <td>1</td>\n",
       "      <td>(6.167529684802798, -75.6436365548203)</td>\n",
       "    </tr>\n",
       "    <tr>\n",
       "      <th>1</th>\n",
       "      <td>132275452</td>\n",
       "      <td>S</td>\n",
       "      <td>5843</td>\n",
       "      <td>4004</td>\n",
       "      <td>01/11/2019 00:03:12</td>\n",
       "      <td>6.167697</td>\n",
       "      <td>-75.648842</td>\n",
       "      <td>0</td>\n",
       "      <td>0</td>\n",
       "      <td>1</td>\n",
       "      <td>0</td>\n",
       "      <td>(6.167645131857714, -75.64881807355334)</td>\n",
       "    </tr>\n",
       "    <tr>\n",
       "      <th>2</th>\n",
       "      <td>132275452</td>\n",
       "      <td>S</td>\n",
       "      <td>5843</td>\n",
       "      <td>4004</td>\n",
       "      <td>01/11/2019 00:04:56</td>\n",
       "      <td>6.173065</td>\n",
       "      <td>-75.649002</td>\n",
       "      <td>0</td>\n",
       "      <td>0</td>\n",
       "      <td>1</td>\n",
       "      <td>1</td>\n",
       "      <td>(6.172988769656983, -75.6490190378299)</td>\n",
       "    </tr>\n",
       "    <tr>\n",
       "      <th>3</th>\n",
       "      <td>132275452</td>\n",
       "      <td>S</td>\n",
       "      <td>5843</td>\n",
       "      <td>4004</td>\n",
       "      <td>01/11/2019 00:04:57</td>\n",
       "      <td>6.173065</td>\n",
       "      <td>-75.649002</td>\n",
       "      <td>0</td>\n",
       "      <td>0</td>\n",
       "      <td>1</td>\n",
       "      <td>0</td>\n",
       "      <td>(6.172988769656983, -75.6490190378299)</td>\n",
       "    </tr>\n",
       "    <tr>\n",
       "      <th>4</th>\n",
       "      <td>132275452</td>\n",
       "      <td>S</td>\n",
       "      <td>5843</td>\n",
       "      <td>4004</td>\n",
       "      <td>01/11/2019 00:05:16</td>\n",
       "      <td>6.173486</td>\n",
       "      <td>-75.649132</td>\n",
       "      <td>0</td>\n",
       "      <td>0</td>\n",
       "      <td>1</td>\n",
       "      <td>1</td>\n",
       "      <td>(6.173515468785558, -75.64917973830612)</td>\n",
       "    </tr>\n",
       "  </tbody>\n",
       "</table>\n",
       "</div>"
      ],
      "text/plain": [
       "   SECUENCIARECORRIDO RECORRIDOFINALIZADO  IDVEHICULO  CODIGORUTA  \\\n",
       "0           132275452                   S        5843        4004   \n",
       "1           132275452                   S        5843        4004   \n",
       "2           132275452                   S        5843        4004   \n",
       "3           132275452                   S        5843        4004   \n",
       "4           132275452                   S        5843        4004   \n",
       "\n",
       "         FECHAREGISTRO   LATITUD   LONGITUD  SUBENDELANTERA  SUBENTRASERA  \\\n",
       "0  01/11/2019 00:00:54  6.166865 -75.642921               0             0   \n",
       "1  01/11/2019 00:03:12  6.167697 -75.648842               0             0   \n",
       "2  01/11/2019 00:04:56  6.173065 -75.649002               0             0   \n",
       "3  01/11/2019 00:04:57  6.173065 -75.649002               0             0   \n",
       "4  01/11/2019 00:05:16  6.173486 -75.649132               0             0   \n",
       "\n",
       "   BAJANDELANTERA  BAJANTRASERA                       nuevas coordenadas  \n",
       "0               0             1   (6.167529684802798, -75.6436365548203)  \n",
       "1               1             0  (6.167645131857714, -75.64881807355334)  \n",
       "2               1             1   (6.172988769656983, -75.6490190378299)  \n",
       "3               1             0   (6.172988769656983, -75.6490190378299)  \n",
       "4               1             1  (6.173515468785558, -75.64917973830612)  "
      ]
     },
     "execution_count": 5,
     "metadata": {},
     "output_type": "execute_result"
    }
   ],
   "source": [
    "df.head()"
   ]
  },
  {
   "cell_type": "code",
   "execution_count": 6,
   "metadata": {},
   "outputs": [
    {
     "name": "stdout",
     "output_type": "stream",
     "text": [
      "Number of null values:\n"
     ]
    },
    {
     "data": {
      "text/plain": [
       "SECUENCIARECORRIDO     0\n",
       "RECORRIDOFINALIZADO    0\n",
       "IDVEHICULO             0\n",
       "CODIGORUTA             0\n",
       "FECHAREGISTRO          0\n",
       "LATITUD                0\n",
       "LONGITUD               0\n",
       "SUBENDELANTERA         0\n",
       "SUBENTRASERA           0\n",
       "BAJANDELANTERA         0\n",
       "BAJANTRASERA           0\n",
       "nuevas coordenadas     0\n",
       "dtype: int64"
      ]
     },
     "execution_count": 6,
     "metadata": {},
     "output_type": "execute_result"
    }
   ],
   "source": [
    "print('Number of null values:')\n",
    "df.isnull().sum()"
   ]
  },
  {
   "cell_type": "code",
   "execution_count": 7,
   "metadata": {},
   "outputs": [
    {
     "name": "stdout",
     "output_type": "stream",
     "text": [
      "<class 'pandas.core.frame.DataFrame'>\n",
      "Int64Index: 22261826 entries, 0 to 697896\n",
      "Data columns (total 12 columns):\n",
      " #   Column               Dtype  \n",
      "---  ------               -----  \n",
      " 0   SECUENCIARECORRIDO   int64  \n",
      " 1   RECORRIDOFINALIZADO  object \n",
      " 2   IDVEHICULO           int64  \n",
      " 3   CODIGORUTA           int64  \n",
      " 4   FECHAREGISTRO        object \n",
      " 5   LATITUD              float64\n",
      " 6   LONGITUD             float64\n",
      " 7   SUBENDELANTERA       int64  \n",
      " 8   SUBENTRASERA         int64  \n",
      " 9   BAJANDELANTERA       int64  \n",
      " 10  BAJANTRASERA         int64  \n",
      " 11  nuevas coordenadas   object \n",
      "dtypes: float64(2), int64(7), object(3)\n",
      "memory usage: 2.2+ GB\n"
     ]
    }
   ],
   "source": [
    "df.info()"
   ]
  },
  {
   "cell_type": "code",
   "execution_count": 8,
   "metadata": {},
   "outputs": [
    {
     "data": {
      "text/html": [
       "<div>\n",
       "<style scoped>\n",
       "    .dataframe tbody tr th:only-of-type {\n",
       "        vertical-align: middle;\n",
       "    }\n",
       "\n",
       "    .dataframe tbody tr th {\n",
       "        vertical-align: top;\n",
       "    }\n",
       "\n",
       "    .dataframe thead th {\n",
       "        text-align: right;\n",
       "    }\n",
       "</style>\n",
       "<table border=\"1\" class=\"dataframe\">\n",
       "  <thead>\n",
       "    <tr style=\"text-align: right;\">\n",
       "      <th></th>\n",
       "      <th>SECUENCIARECORRIDO</th>\n",
       "      <th>IDVEHICULO</th>\n",
       "      <th>CODIGORUTA</th>\n",
       "      <th>LATITUD</th>\n",
       "      <th>LONGITUD</th>\n",
       "      <th>SUBENDELANTERA</th>\n",
       "      <th>SUBENTRASERA</th>\n",
       "      <th>BAJANDELANTERA</th>\n",
       "      <th>BAJANTRASERA</th>\n",
       "    </tr>\n",
       "  </thead>\n",
       "  <tbody>\n",
       "    <tr>\n",
       "      <th>count</th>\n",
       "      <td>2.226183e+07</td>\n",
       "      <td>22261826.00</td>\n",
       "      <td>22261826.00</td>\n",
       "      <td>22261826.00</td>\n",
       "      <td>22261826.00</td>\n",
       "      <td>22261826.00</td>\n",
       "      <td>22261826.00</td>\n",
       "      <td>22261826.00</td>\n",
       "      <td>22261826.00</td>\n",
       "    </tr>\n",
       "    <tr>\n",
       "      <th>mean</th>\n",
       "      <td>1.608684e+08</td>\n",
       "      <td>3313.99</td>\n",
       "      <td>42626.44</td>\n",
       "      <td>6.25</td>\n",
       "      <td>-75.51</td>\n",
       "      <td>0.97</td>\n",
       "      <td>0.17</td>\n",
       "      <td>0.33</td>\n",
       "      <td>0.71</td>\n",
       "    </tr>\n",
       "    <tr>\n",
       "      <th>std</th>\n",
       "      <td>2.343664e+07</td>\n",
       "      <td>2487.83</td>\n",
       "      <td>221821.07</td>\n",
       "      <td>0.22</td>\n",
       "      <td>2.27</td>\n",
       "      <td>3.10</td>\n",
       "      <td>2.33</td>\n",
       "      <td>2.46</td>\n",
       "      <td>2.65</td>\n",
       "    </tr>\n",
       "    <tr>\n",
       "      <th>min</th>\n",
       "      <td>1.258464e+08</td>\n",
       "      <td>1.00</td>\n",
       "      <td>1001.00</td>\n",
       "      <td>-14.81</td>\n",
       "      <td>-87.34</td>\n",
       "      <td>0.00</td>\n",
       "      <td>0.00</td>\n",
       "      <td>0.00</td>\n",
       "      <td>0.00</td>\n",
       "    </tr>\n",
       "    <tr>\n",
       "      <th>25%</th>\n",
       "      <td>1.392549e+08</td>\n",
       "      <td>681.00</td>\n",
       "      <td>4002.00</td>\n",
       "      <td>6.18</td>\n",
       "      <td>-75.59</td>\n",
       "      <td>0.00</td>\n",
       "      <td>0.00</td>\n",
       "      <td>0.00</td>\n",
       "      <td>0.00</td>\n",
       "    </tr>\n",
       "    <tr>\n",
       "      <th>50%</th>\n",
       "      <td>1.448772e+08</td>\n",
       "      <td>2692.00</td>\n",
       "      <td>7305.00</td>\n",
       "      <td>6.26</td>\n",
       "      <td>-75.57</td>\n",
       "      <td>1.00</td>\n",
       "      <td>0.00</td>\n",
       "      <td>0.00</td>\n",
       "      <td>0.00</td>\n",
       "    </tr>\n",
       "    <tr>\n",
       "      <th>75%</th>\n",
       "      <td>1.847687e+08</td>\n",
       "      <td>5935.00</td>\n",
       "      <td>41150.00</td>\n",
       "      <td>6.33</td>\n",
       "      <td>-75.56</td>\n",
       "      <td>1.00</td>\n",
       "      <td>0.00</td>\n",
       "      <td>0.00</td>\n",
       "      <td>1.00</td>\n",
       "    </tr>\n",
       "    <tr>\n",
       "      <th>max</th>\n",
       "      <td>1.964364e+08</td>\n",
       "      <td>6998.00</td>\n",
       "      <td>4005000.00</td>\n",
       "      <td>19.48</td>\n",
       "      <td>75.57</td>\n",
       "      <td>99.00</td>\n",
       "      <td>99.00</td>\n",
       "      <td>99.00</td>\n",
       "      <td>99.00</td>\n",
       "    </tr>\n",
       "  </tbody>\n",
       "</table>\n",
       "</div>"
      ],
      "text/plain": [
       "       SECUENCIARECORRIDO   IDVEHICULO   CODIGORUTA      LATITUD     LONGITUD  \\\n",
       "count        2.226183e+07  22261826.00  22261826.00  22261826.00  22261826.00   \n",
       "mean         1.608684e+08      3313.99     42626.44         6.25       -75.51   \n",
       "std          2.343664e+07      2487.83    221821.07         0.22         2.27   \n",
       "min          1.258464e+08         1.00      1001.00       -14.81       -87.34   \n",
       "25%          1.392549e+08       681.00      4002.00         6.18       -75.59   \n",
       "50%          1.448772e+08      2692.00      7305.00         6.26       -75.57   \n",
       "75%          1.847687e+08      5935.00     41150.00         6.33       -75.56   \n",
       "max          1.964364e+08      6998.00   4005000.00        19.48        75.57   \n",
       "\n",
       "       SUBENDELANTERA  SUBENTRASERA  BAJANDELANTERA  BAJANTRASERA  \n",
       "count     22261826.00   22261826.00     22261826.00   22261826.00  \n",
       "mean             0.97          0.17            0.33          0.71  \n",
       "std              3.10          2.33            2.46          2.65  \n",
       "min              0.00          0.00            0.00          0.00  \n",
       "25%              0.00          0.00            0.00          0.00  \n",
       "50%              1.00          0.00            0.00          0.00  \n",
       "75%              1.00          0.00            0.00          1.00  \n",
       "max             99.00         99.00           99.00         99.00  "
      ]
     },
     "execution_count": 8,
     "metadata": {},
     "output_type": "execute_result"
    }
   ],
   "source": [
    "round(df.describe(),2)"
   ]
  },
  {
   "cell_type": "code",
   "execution_count": 9,
   "metadata": {},
   "outputs": [
    {
     "data": {
      "text/plain": [
       "0     10837417\n",
       "1      8366136\n",
       "2      1554880\n",
       "3       625737\n",
       "4       304243\n",
       "        ...   \n",
       "92         296\n",
       "99         295\n",
       "98         274\n",
       "96         273\n",
       "93         262\n",
       "Name: SUBENDELANTERA, Length: 100, dtype: int64"
      ]
     },
     "execution_count": 9,
     "metadata": {},
     "output_type": "execute_result"
    }
   ],
   "source": [
    "df['SUBENDELANTERA'].value_counts()"
   ]
  },
  {
   "cell_type": "code",
   "execution_count": 10,
   "metadata": {},
   "outputs": [
    {
     "data": {
      "text/plain": [
       "0.4868161758159461"
      ]
     },
     "execution_count": 10,
     "metadata": {},
     "output_type": "execute_result"
    }
   ],
   "source": [
    "df[df['SUBENDELANTERA']==0]['SUBENDELANTERA'].count()/df['SUBENDELANTERA'].count()"
   ]
  },
  {
   "cell_type": "code",
   "execution_count": 11,
   "metadata": {},
   "outputs": [
    {
     "data": {
      "text/plain": [
       "0.37580636916306864"
      ]
     },
     "execution_count": 11,
     "metadata": {},
     "output_type": "execute_result"
    }
   ],
   "source": [
    "df[df['SUBENDELANTERA']==1]['SUBENDELANTERA'].count()/df['SUBENDELANTERA'].count()"
   ]
  },
  {
   "cell_type": "code",
   "execution_count": 12,
   "metadata": {},
   "outputs": [
    {
     "data": {
      "text/plain": [
       "0.0698451241151557"
      ]
     },
     "execution_count": 12,
     "metadata": {},
     "output_type": "execute_result"
    }
   ],
   "source": [
    "df[df['SUBENDELANTERA']==2]['SUBENDELANTERA'].count()/df['SUBENDELANTERA'].count()"
   ]
  },
  {
   "cell_type": "code",
   "execution_count": 13,
   "metadata": {},
   "outputs": [
    {
     "data": {
      "text/plain": [
       "0.02810807163796896"
      ]
     },
     "execution_count": 13,
     "metadata": {},
     "output_type": "execute_result"
    }
   ],
   "source": [
    "df[df['SUBENDELANTERA']==3]['SUBENDELANTERA'].count()/df['SUBENDELANTERA'].count()"
   ]
  },
  {
   "cell_type": "code",
   "execution_count": 14,
   "metadata": {},
   "outputs": [
    {
     "data": {
      "text/plain": [
       "0     21206441\n",
       "1       741057\n",
       "2       131627\n",
       "3        47648\n",
       "4        22896\n",
       "        ...   \n",
       "85         172\n",
       "82         157\n",
       "76         143\n",
       "97         120\n",
       "84         114\n",
       "Name: SUBENTRASERA, Length: 100, dtype: int64"
      ]
     },
     "execution_count": 14,
     "metadata": {},
     "output_type": "execute_result"
    }
   ],
   "source": [
    "df['SUBENTRASERA'].value_counts()"
   ]
  },
  {
   "cell_type": "code",
   "execution_count": 15,
   "metadata": {},
   "outputs": [
    {
     "data": {
      "text/plain": [
       "0.9525921638233988"
      ]
     },
     "execution_count": 15,
     "metadata": {},
     "output_type": "execute_result"
    }
   ],
   "source": [
    "df[df['SUBENTRASERA']==0]['SUBENTRASERA'].count()/df['SUBENTRASERA'].count()"
   ]
  },
  {
   "cell_type": "code",
   "execution_count": 16,
   "metadata": {},
   "outputs": [
    {
     "data": {
      "text/plain": [
       "0.03328823969785767"
      ]
     },
     "execution_count": 16,
     "metadata": {},
     "output_type": "execute_result"
    }
   ],
   "source": [
    "df[df['SUBENTRASERA']==1]['SUBENTRASERA'].count()/df['SUBENTRASERA'].count()"
   ]
  },
  {
   "cell_type": "code",
   "execution_count": 17,
   "metadata": {},
   "outputs": [
    {
     "data": {
      "text/plain": [
       "0.0059126776033556275"
      ]
     },
     "execution_count": 17,
     "metadata": {},
     "output_type": "execute_result"
    }
   ],
   "source": [
    "df[df['SUBENTRASERA']==2]['SUBENTRASERA'].count()/df['SUBENTRASERA'].count()"
   ]
  },
  {
   "cell_type": "code",
   "execution_count": 18,
   "metadata": {},
   "outputs": [
    {
     "data": {
      "text/plain": [
       "0.0021403455403882863"
      ]
     },
     "execution_count": 18,
     "metadata": {},
     "output_type": "execute_result"
    }
   ],
   "source": [
    "df[df['SUBENTRASERA']==3]['SUBENTRASERA'].count()/df['SUBENTRASERA'].count()"
   ]
  },
  {
   "cell_type": "code",
   "execution_count": 38,
   "metadata": {},
   "outputs": [
    {
     "data": {
      "text/plain": [
       "0     19161716\n",
       "1      2238626\n",
       "2       417100\n",
       "3       148807\n",
       "4        72663\n",
       "        ...   \n",
       "94         229\n",
       "89         217\n",
       "83         209\n",
       "95         186\n",
       "99         177\n",
       "Name: BAJANDELANTERA, Length: 100, dtype: int64"
      ]
     },
     "execution_count": 38,
     "metadata": {},
     "output_type": "execute_result"
    }
   ],
   "source": [
    "df['BAJANDELANTERA'].value_counts()"
   ]
  },
  {
   "cell_type": "code",
   "execution_count": 19,
   "metadata": {},
   "outputs": [
    {
     "data": {
      "text/plain": [
       "0.8607432292391469"
      ]
     },
     "execution_count": 19,
     "metadata": {},
     "output_type": "execute_result"
    }
   ],
   "source": [
    "df[df['BAJANDELANTERA']==0]['BAJANDELANTERA'].count()/df['BAJANDELANTERA'].count()"
   ]
  },
  {
   "cell_type": "code",
   "execution_count": 20,
   "metadata": {},
   "outputs": [
    {
     "data": {
      "text/plain": [
       "0.10055895684388154"
      ]
     },
     "execution_count": 20,
     "metadata": {},
     "output_type": "execute_result"
    }
   ],
   "source": [
    "df[df['BAJANDELANTERA']==1]['BAJANDELANTERA'].count()/df['BAJANDELANTERA'].count()"
   ]
  },
  {
   "cell_type": "code",
   "execution_count": 21,
   "metadata": {},
   "outputs": [
    {
     "data": {
      "text/plain": [
       "0.01873610906850139"
      ]
     },
     "execution_count": 21,
     "metadata": {},
     "output_type": "execute_result"
    }
   ],
   "source": [
    "df[df['BAJANDELANTERA']==2]['BAJANDELANTERA'].count()/df['BAJANDELANTERA'].count()"
   ]
  },
  {
   "cell_type": "code",
   "execution_count": 22,
   "metadata": {},
   "outputs": [
    {
     "data": {
      "text/plain": [
       "0.006684402258826387"
      ]
     },
     "execution_count": 22,
     "metadata": {},
     "output_type": "execute_result"
    }
   ],
   "source": [
    "df[df['BAJANDELANTERA']==3]['BAJANDELANTERA'].count()/df['BAJANDELANTERA'].count()"
   ]
  },
  {
   "cell_type": "code",
   "execution_count": 23,
   "metadata": {},
   "outputs": [
    {
     "data": {
      "text/plain": [
       "0     13359679\n",
       "1      7135694\n",
       "2       897746\n",
       "3       305415\n",
       "4       151952\n",
       "        ...   \n",
       "88         234\n",
       "91         232\n",
       "98         224\n",
       "96         222\n",
       "97         193\n",
       "Name: BAJANTRASERA, Length: 100, dtype: int64"
      ]
     },
     "execution_count": 23,
     "metadata": {},
     "output_type": "execute_result"
    }
   ],
   "source": [
    "df['BAJANTRASERA'].value_counts()"
   ]
  },
  {
   "cell_type": "code",
   "execution_count": 24,
   "metadata": {},
   "outputs": [
    {
     "data": {
      "text/plain": [
       "0.6001160461859687"
      ]
     },
     "execution_count": 24,
     "metadata": {},
     "output_type": "execute_result"
    }
   ],
   "source": [
    "df[df['BAJANTRASERA']==0]['BAJANTRASERA'].count()/df['BAJANTRASERA'].count()"
   ]
  },
  {
   "cell_type": "code",
   "execution_count": 25,
   "metadata": {},
   "outputs": [
    {
     "data": {
      "text/plain": [
       "0.3205349821708246"
      ]
     },
     "execution_count": 25,
     "metadata": {},
     "output_type": "execute_result"
    }
   ],
   "source": [
    "df[df['BAJANTRASERA']==1]['BAJANTRASERA'].count()/df['BAJANTRASERA'].count()"
   ]
  },
  {
   "cell_type": "code",
   "execution_count": 26,
   "metadata": {},
   "outputs": [
    {
     "data": {
      "text/plain": [
       "0.040326700963344154"
      ]
     },
     "execution_count": 26,
     "metadata": {},
     "output_type": "execute_result"
    }
   ],
   "source": [
    "df[df['BAJANTRASERA']==2]['BAJANTRASERA'].count()/df['BAJANTRASERA'].count()"
   ]
  },
  {
   "cell_type": "code",
   "execution_count": 27,
   "metadata": {},
   "outputs": [
    {
     "data": {
      "text/plain": [
       "0.013719225008766127"
      ]
     },
     "execution_count": 27,
     "metadata": {},
     "output_type": "execute_result"
    }
   ],
   "source": [
    "df[df['BAJANTRASERA']==3]['BAJANTRASERA'].count()/df['BAJANTRASERA'].count()"
   ]
  },
  {
   "cell_type": "code",
   "execution_count": 28,
   "metadata": {},
   "outputs": [
    {
     "data": {
      "image/png": "[encoded data removed]",
      "text/plain": [
       "<Figure size 1080x360 with 5 Axes>"
      ]
     },
     "metadata": {
      "needs_background": "light"
     },
     "output_type": "display_data"
    }
   ],
   "source": [
    "fig = plt.figure(figsize=(15,5))\n",
    "plt.title('POSSIBLE LOAD OUTLIERS')\n",
    "plt.axis('off')\n",
    "fig.subplots_adjust(hspace=0.4, wspace=0.4)\n",
    "movement_list = ['SUBENDELANTERA','BAJANDELANTERA','SUBENTRASERA','BAJANTRASERA']\n",
    "j=1\n",
    "for i in movement_list:\n",
    "    \n",
    "    ax = fig.add_subplot(2, 2, j)\n",
    "    ax.set_ylabel('COUNT')\n",
    "    sns.distplot(df[df[i]>39][i],kde=False,ax=ax)\n",
    "    j+=1"
   ]
  },
  {
   "cell_type": "code",
   "execution_count": 32,
   "metadata": {},
   "outputs": [
    {
     "data": {
      "text/plain": [
       "<matplotlib.axes._subplots.AxesSubplot at 0x1ccfade2448>"
      ]
     },
     "execution_count": 32,
     "metadata": {},
     "output_type": "execute_result"
    },
    {
     "data": {
      "image/png": "[encoded data removed]",
      "text/plain": [
       "<Figure size 432x288 with 2 Axes>"
      ]
     },
     "metadata": {
      "needs_background": "light"
     },
     "output_type": "display_data"
    }
   ],
   "source": [
    "sns.heatmap(df[['LATITUD','LONGITUD','SUBENDELANTERA','BAJANDELANTERA','SUBENTRASERA','BAJANTRASERA']].corr(),annot=True)"
   ]
  },
  {
   "cell_type": "code",
   "execution_count": 35,
   "metadata": {},
   "outputs": [],
   "source": [
    "df['LOAD'] = df['SUBENDELANTERA']+df['SUBENTRASERA']-df['BAJANDELANTERA']-df['BAJANTRASERA']"
   ]
  },
  {
   "cell_type": "code",
   "execution_count": 36,
   "metadata": {},
   "outputs": [
    {
     "data": {
      "text/html": [
       "<div>\n",
       "<style scoped>\n",
       "    .dataframe tbody tr th:only-of-type {\n",
       "        vertical-align: middle;\n",
       "    }\n",
       "\n",
       "    .dataframe tbody tr th {\n",
       "        vertical-align: top;\n",
       "    }\n",
       "\n",
       "    .dataframe thead th {\n",
       "        text-align: right;\n",
       "    }\n",
       "</style>\n",
       "<table border=\"1\" class=\"dataframe\">\n",
       "  <thead>\n",
       "    <tr style=\"text-align: right;\">\n",
       "      <th></th>\n",
       "      <th>SECUENCIARECORRIDO</th>\n",
       "      <th>RECORRIDOFINALIZADO</th>\n",
       "      <th>IDVEHICULO</th>\n",
       "      <th>CODIGORUTA</th>\n",
       "      <th>FECHAREGISTRO</th>\n",
       "      <th>LATITUD</th>\n",
       "      <th>LONGITUD</th>\n",
       "      <th>SUBENDELANTERA</th>\n",
       "      <th>SUBENTRASERA</th>\n",
       "      <th>BAJANDELANTERA</th>\n",
       "      <th>BAJANTRASERA</th>\n",
       "      <th>nuevas coordenadas</th>\n",
       "      <th>LOAD</th>\n",
       "    </tr>\n",
       "  </thead>\n",
       "  <tbody>\n",
       "    <tr>\n",
       "      <th>0</th>\n",
       "      <td>132275452</td>\n",
       "      <td>S</td>\n",
       "      <td>5843</td>\n",
       "      <td>4004</td>\n",
       "      <td>01/11/2019 00:00:54</td>\n",
       "      <td>6.166865</td>\n",
       "      <td>-75.642921</td>\n",
       "      <td>0</td>\n",
       "      <td>0</td>\n",
       "      <td>0</td>\n",
       "      <td>1</td>\n",
       "      <td>(6.167529684802798, -75.6436365548203)</td>\n",
       "      <td>-1</td>\n",
       "    </tr>\n",
       "    <tr>\n",
       "      <th>1</th>\n",
       "      <td>132275452</td>\n",
       "      <td>S</td>\n",
       "      <td>5843</td>\n",
       "      <td>4004</td>\n",
       "      <td>01/11/2019 00:03:12</td>\n",
       "      <td>6.167697</td>\n",
       "      <td>-75.648842</td>\n",
       "      <td>0</td>\n",
       "      <td>0</td>\n",
       "      <td>1</td>\n",
       "      <td>0</td>\n",
       "      <td>(6.167645131857714, -75.64881807355334)</td>\n",
       "      <td>-1</td>\n",
       "    </tr>\n",
       "    <tr>\n",
       "      <th>2</th>\n",
       "      <td>132275452</td>\n",
       "      <td>S</td>\n",
       "      <td>5843</td>\n",
       "      <td>4004</td>\n",
       "      <td>01/11/2019 00:04:56</td>\n",
       "      <td>6.173065</td>\n",
       "      <td>-75.649002</td>\n",
       "      <td>0</td>\n",
       "      <td>0</td>\n",
       "      <td>1</td>\n",
       "      <td>1</td>\n",
       "      <td>(6.172988769656983, -75.6490190378299)</td>\n",
       "      <td>-2</td>\n",
       "    </tr>\n",
       "    <tr>\n",
       "      <th>3</th>\n",
       "      <td>132275452</td>\n",
       "      <td>S</td>\n",
       "      <td>5843</td>\n",
       "      <td>4004</td>\n",
       "      <td>01/11/2019 00:04:57</td>\n",
       "      <td>6.173065</td>\n",
       "      <td>-75.649002</td>\n",
       "      <td>0</td>\n",
       "      <td>0</td>\n",
       "      <td>1</td>\n",
       "      <td>0</td>\n",
       "      <td>(6.172988769656983, -75.6490190378299)</td>\n",
       "      <td>-1</td>\n",
       "    </tr>\n",
       "    <tr>\n",
       "      <th>4</th>\n",
       "      <td>132275452</td>\n",
       "      <td>S</td>\n",
       "      <td>5843</td>\n",
       "      <td>4004</td>\n",
       "      <td>01/11/2019 00:05:16</td>\n",
       "      <td>6.173486</td>\n",
       "      <td>-75.649132</td>\n",
       "      <td>0</td>\n",
       "      <td>0</td>\n",
       "      <td>1</td>\n",
       "      <td>1</td>\n",
       "      <td>(6.173515468785558, -75.64917973830612)</td>\n",
       "      <td>-2</td>\n",
       "    </tr>\n",
       "  </tbody>\n",
       "</table>\n",
       "</div>"
      ],
      "text/plain": [
       "   SECUENCIARECORRIDO RECORRIDOFINALIZADO  IDVEHICULO  CODIGORUTA  \\\n",
       "0           132275452                   S        5843        4004   \n",
       "1           132275452                   S        5843        4004   \n",
       "2           132275452                   S        5843        4004   \n",
       "3           132275452                   S        5843        4004   \n",
       "4           132275452                   S        5843        4004   \n",
       "\n",
       "         FECHAREGISTRO   LATITUD   LONGITUD  SUBENDELANTERA  SUBENTRASERA  \\\n",
       "0  01/11/2019 00:00:54  6.166865 -75.642921               0             0   \n",
       "1  01/11/2019 00:03:12  6.167697 -75.648842               0             0   \n",
       "2  01/11/2019 00:04:56  6.173065 -75.649002               0             0   \n",
       "3  01/11/2019 00:04:57  6.173065 -75.649002               0             0   \n",
       "4  01/11/2019 00:05:16  6.173486 -75.649132               0             0   \n",
       "\n",
       "   BAJANDELANTERA  BAJANTRASERA                       nuevas coordenadas  LOAD  \n",
       "0               0             1   (6.167529684802798, -75.6436365548203)    -1  \n",
       "1               1             0  (6.167645131857714, -75.64881807355334)    -1  \n",
       "2               1             1   (6.172988769656983, -75.6490190378299)    -2  \n",
       "3               1             0   (6.172988769656983, -75.6490190378299)    -1  \n",
       "4               1             1  (6.173515468785558, -75.64917973830612)    -2  "
      ]
     },
     "execution_count": 36,
     "metadata": {},
     "output_type": "execute_result"
    }
   ],
   "source": [
    "df.head()"
   ]
  },
  {
   "cell_type": "code",
   "execution_count": null,
   "metadata": {},
   "outputs": [],
   "source": []
  }
 ],
 "metadata": {
  "kernelspec": {
   "display_name": "Python 3",
   "language": "python",
   "name": "python3"
  },
  "language_info": {
   "codemirror_mode": {
    "name": "ipython",
    "version": 3
   },
   "file_extension": ".py",
   "mimetype": "text/x-python",
   "name": "python",
   "nbconvert_exporter": "python",
   "pygments_lexer": "ipython3",
   "version": "3.7.6"
  }
 },
 "nbformat": 4,
 "nbformat_minor": 4
}
